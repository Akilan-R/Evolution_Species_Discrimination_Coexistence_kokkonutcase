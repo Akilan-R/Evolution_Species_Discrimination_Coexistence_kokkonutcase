{
 "cells": [
  {
   "cell_type": "code",
   "execution_count": 1,
   "metadata": {},
   "outputs": [],
   "source": [
    "class Parameters_class:\n",
    "    def __init__(self, b1, b2, alpha11, alpha22, alpha12, alpha21, z_m1_initial, z_m2_initial, initial_population_species_1, initial_population_species_2, conspecfic_mating_rate_multiplier_sp_1, conspecfic_mating_rate_multiplier_sp_2, mean_heterospecifc_permissivness_females_sp_1, mean_heterospecifc_permissivness_females_sp_2, V_A1, V_A2, num_generations):\n",
    "        \n",
    "        '''ecology terms'''\n",
    "        self.b1 = b1   #birth rates of the two species\n",
    "        self.b2 = b2\n",
    "\n",
    "        self.alpha11 = alpha11    #intraspecific competition sp. 11\n",
    "        self.alpha22 = alpha22    #intraspecific competition sp. 22\n",
    "        self.alpha12 = alpha12    #interspecific competetitive effect sp.2 on sp.1\n",
    "        self.alpha21 = alpha21    #interspecific competetitive effect sp.1 on sp.2\n",
    "\n",
    "        self.initial_population_species_1 = initial_population_species_1\n",
    "        self.initial_population_species_2 = initial_population_species_2\n",
    "\n",
    "        '''reproductive interference terms'''\n",
    "\n",
    "        self.conspecfic_mating_rate_multiplier_sp_1 = conspecfic_mating_rate_multiplier_sp_1  #multiplier taht tells how much conspecfic mating rate increases for increase in unit heterospecfic discrimination\n",
    "        self.conspecfic_mating_rate_multiplier_sp_2 = conspecfic_mating_rate_multiplier_sp_2  #multiplier taht tells how much conspecfic mating rate increases for increase in unit heterospecfic discrimination\n",
    "\n",
    "\n",
    "        self.z_m1_initial = z_m1_initial  #mean male discrimination of species 1\n",
    "        self.z_m2_initial = z_m2_initial  #mean male discrimination of species 2\n",
    "        \n",
    "        self.mean_heterospecifc_permissivness_females_sp_1 = mean_heterospecifc_permissivness_females_sp_1\n",
    "        self.mean_heterospecifc_permissivness_females_sp_2 = mean_heterospecifc_permissivness_females_sp_2\n",
    "\n",
    "        '''evolvability terms'''\n",
    "\n",
    "        self.V_A1 = V_A1\n",
    "        self.V_A2 = V_A2\n",
    "\n",
    "        '''other simulation terms'''\n",
    "        self.num_generations = num_generations"
   ]
  }
 ],
 "metadata": {
  "kernelspec": {
   "display_name": "Python 3",
   "language": "python",
   "name": "python3"
  },
  "language_info": {
   "codemirror_mode": {
    "name": "ipython",
    "version": 3
   },
   "file_extension": ".py",
   "mimetype": "text/x-python",
   "name": "python",
   "nbconvert_exporter": "python",
   "pygments_lexer": "ipython3",
   "version": "3.12.1"
  }
 },
 "nbformat": 4,
 "nbformat_minor": 2
}
