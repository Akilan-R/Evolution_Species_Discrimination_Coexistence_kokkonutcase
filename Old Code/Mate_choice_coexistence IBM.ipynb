{
 "cells": [
  {
   "cell_type": "code",
   "execution_count": 3,
   "metadata": {},
   "outputs": [],
   "source": [
    "import random\n",
    "import numpy as np\n",
    "import matplotlib.pyplot as plt\n",
    "import pandas as pd\n",
    "import seaborn as sns"
   ]
  },
  {
   "cell_type": "code",
   "execution_count": 4,
   "metadata": {},
   "outputs": [],
   "source": [
    "class Individual:\n",
    "    def __init__(self, species, sex, size):\n",
    "        self.species = species\n",
    "        self.size = size\n",
    "        self.sex = sex\n",
    "        self.mating_attempts = 0\n",
    "\n",
    "    def __repr__(self):\n",
    "        return f\"Ind(sp.={self.species}, sex={self.sex}, size={self.size})\""
   ]
  },
  {
   "cell_type": "code",
   "execution_count": 237,
   "metadata": {},
   "outputs": [],
   "source": [
    "num_generations = 100\n",
    "num_individuals = 10000\n",
    "max_mating_attempts = 3\n",
    "dispersal_rate = 0.1\n",
    "mean_size_A = 0.4  # Mean size for species A\n",
    "mean_size_B = 0.6  # Mean size for species B\n",
    "std_dev = 0.1  # Standard deviation for both species\n",
    "sex_ratio = 0.3\n",
    "\n",
    "carrying_capacity = 100\n",
    "reproductive_potential = 1.5\n",
    "number_of_offsprings = int(reproductive_potential/sex_ratio)\n",
    "\n",
    "density_dependent_mortality_factor = 0.0005\n",
    "viablity_mortality_factor = 0.02\n",
    "\n",
    "mate_acceptance_scaling_factor = 1.1"
   ]
  },
  {
   "cell_type": "code",
   "execution_count": 238,
   "metadata": {},
   "outputs": [],
   "source": [
    "def mutual_mate_choice(male, female):\n",
    "\n",
    "\n",
    "    #size adjustments to ensure within 0 and 1\n",
    "    if male.size > 1:\n",
    "        male.size == 1\n",
    "    if female.size > 1:\n",
    "        female.size == 1 \n",
    "    if male.size < 0:\n",
    "        male.size == 0\n",
    "    if female.size < 0:\n",
    "        female.size == 0\n",
    "\n",
    "    #probability of accepting a mate each species. A prefers small, B prefers large\n",
    "    if male.species == \"A\":\n",
    "        male_accepting_probabilty = 1-female.size\n",
    "\n",
    "    if male.species == \"B\":\n",
    "        male_accepting_probabilty = female.size\n",
    "\n",
    "    if female.species == \"A\":\n",
    "        female_accepting_probabilty = 1 - male.size\n",
    "\n",
    "    if female.species == \"B\":\n",
    "        female_accepting_probabilty = male.size\n",
    "\n",
    "    # print(\"mating attempt\", male, female)\n",
    "\n",
    "\n",
    "    if np.random.rand() < mate_acceptance_scaling_factor*male_accepting_probabilty*female_accepting_probabilty:\n",
    "        # print(\"mating success\")\n",
    "        return True\n",
    "    else:\n",
    "        return False"
   ]
  },
  {
   "cell_type": "code",
   "execution_count": 239,
   "metadata": {},
   "outputs": [],
   "source": [
    "def unidirectional_mate_choice(male, female):\n",
    "\n",
    "    #size adjustments to ensure within 0 and 1\n",
    "    if male.size > 1:\n",
    "        male.size == 1\n",
    "    if female.size > 1:\n",
    "        female.size == 1 \n",
    "    if male.size < 0:\n",
    "        male.size == 0\n",
    "    if female.size < 0:\n",
    "        female.size == 0\n",
    "\n",
    "    #probability of accepting a mate each species. A prefers small, B prefers large\n",
    "    if male.species == \"A\":\n",
    "        male_accepting_probabilty = 0.5\n",
    "\n",
    "    if male.species == \"B\":\n",
    "        male_accepting_probabilty = 0.5\n",
    "\n",
    "    if female.species == \"A\":\n",
    "        female_accepting_probabilty = 1 - male.size\n",
    "\n",
    "    if female.species == \"B\":\n",
    "        female_accepting_probabilty = male.size\n",
    "\n",
    "    # print(\"mating attempt\", male, female)\n",
    "\n",
    "\n",
    "    if np.random.rand() < mate_acceptance_scaling_factor*male_accepting_probabilty*female_accepting_probabilty:\n",
    "        # print(\"mating success\")\n",
    "        return True\n",
    "    else:\n",
    "        return False"
   ]
  },
  {
   "cell_type": "code",
   "execution_count": 240,
   "metadata": {},
   "outputs": [],
   "source": [
    "#reproduction within one generation function\n",
    "\n",
    "def reproduction_one_generation_one_patch(patch_population_list, mate_choice_function):\n",
    "\n",
    "    np.random.seed(1)\n",
    "\n",
    "    females_patch_list = [individual for individual in patch_population_list if individual.sex == 'female']\n",
    "    males_patch_list = [individual for individual in patch_population_list if individual.sex == \"male\"]\n",
    "\n",
    "    #patch A\n",
    "    mating_pool_females_patch= females_patch_list.copy()\n",
    "    mating_pool_males_patch = males_patch_list.copy()\n",
    "\n",
    "    # print(\"mating pools male, female\" , mating_pool_females_patch, mating_pool_males_patch)\n",
    "  \n",
    "    offspring_list = []\n",
    "\n",
    "    while len(mating_pool_females_patch) > int(0.1*len(females_patch_list)) and len(mating_pool_males_patch) > int(0.1*len(males_patch_list)):\n",
    "          #stopping rule - simulations proceed until 90% of the females have mated (might need a change)\n",
    "        \n",
    "        female_for_mating = np.random.choice(mating_pool_females_patch)\n",
    "        male_for_mating = np.random.choice(mating_pool_males_patch)\n",
    "\n",
    "        male_for_mating.mating_attempts += 1\n",
    "\n",
    "        if male_for_mating.mating_attempts == max_mating_attempts:\n",
    "            mating_pool_males_patch.remove(male_for_mating)\n",
    "        \n",
    "\n",
    "        if mate_choice_function(male_for_mating, female_for_mating) == True:\n",
    "            mating_pool_females_patch.remove(female_for_mating)\n",
    "\n",
    "            if male_for_mating.species == \"A\" and female_for_mating.species == \"A\":\n",
    "\n",
    "                minimum_size_A = min(male_for_mating.size, female_for_mating.size)\n",
    "                maximum_size_A = max(male_for_mating.size, female_for_mating.size)\n",
    "\n",
    "                for k in range(number_of_offsprings):\n",
    "                    random_val = np.random.beta(2, 2, 1)[0]\n",
    "                    offspring = Individual(species='A', sex='female' if np.random.rand() < sex_ratio else 'male', size = random_val*minimum_size_A + maximum_size_A*(1-random_val))\n",
    "                    offspring_list.append(offspring)\n",
    "\n",
    "            if male_for_mating.species == \"B\" and female_for_mating.species == \"B\":\n",
    "\n",
    "                minimum_size_B = min(male_for_mating.size, female_for_mating.size)\n",
    "                maximum_size_B = max(male_for_mating.size, female_for_mating.size)\n",
    "\n",
    "                for k in range(number_of_offsprings):\n",
    "                    random_val = np.random.beta(2, 2, 1)[0]\n",
    "                    offspring = Individual(species='B', sex='female' if np.random.rand() < sex_ratio else 'male', size = random_val*minimum_size_B + maximum_size_B*(1-random_val))\n",
    "                    offspring_list.append(offspring)\n",
    "\n",
    "\n",
    "    offspring_list_before_regulation = offspring_list.copy()\n",
    "\n",
    "    # print(offspring_list_before_regulation)\n",
    "\n",
    "    #viability selection\n",
    "    random.shuffle(offspring_list_before_regulation)\n",
    "    population_size_before_regulation = len(offspring_list_before_regulation)\n",
    "\n",
    "    population_viablity_mortality_number = int(viablity_mortality_factor*population_size_before_regulation)\n",
    "\n",
    "    if population_viablity_mortality_number > 0:\n",
    "        poulation_list_after_viability_selection = offspring_list_before_regulation[:-population_viablity_mortality_number]\n",
    "    else:\n",
    "        poulation_list_after_viability_selection = offspring_list_before_regulation\n",
    "\n",
    "    # print(poulation_list_after_viability_selection, \"after viability\")\n",
    "\n",
    "    #density selection \n",
    "    population_size_after_viability_selection = len(poulation_list_after_viability_selection)\n",
    "    population_density_mortality_number = int(density_dependent_mortality_factor*(population_size_after_viability_selection**2))\n",
    "\n",
    "    if population_density_mortality_number > 0:\n",
    "        population_list_after_density_selection = poulation_list_after_viability_selection[:-population_density_mortality_number]\n",
    "    else:\n",
    "        population_list_after_density_selection = poulation_list_after_viability_selection\n",
    "\n",
    "    return population_list_after_density_selection"
   ]
  },
  {
   "cell_type": "code",
   "execution_count": 241,
   "metadata": {},
   "outputs": [],
   "source": [
    "def migration_between_two_patches(list_A, list_B, dispersal_rate):\n",
    "\n",
    "    number_of_individuals_to_dispers_from_A = int(dispersal_rate*len(list_A))\n",
    "\n",
    "    individuals_to_disperse_from_A_to_B = list_A[:number_of_individuals_to_dispers_from_A]\n",
    "    individuals_remaining_in_A = list_A[number_of_individuals_to_dispers_from_A:]\n",
    "\n",
    "    number_of_individuals_to_dispers_from_B = int(dispersal_rate*len(list_B))\n",
    "\n",
    "    individuals_to_disperse_from_B_to_A = list_B[:number_of_individuals_to_dispers_from_B]\n",
    "    individuals_remaining_in_B = list_B[number_of_individuals_to_dispers_from_B:]\n",
    "    \n",
    "    list_A_new = individuals_remaining_in_A + individuals_to_disperse_from_B_to_A\n",
    "    list_B_new = individuals_remaining_in_B + individuals_to_disperse_from_A_to_B\n",
    "    \n",
    "    return list_A_new, list_B_new"
   ]
  },
  {
   "cell_type": "code",
   "execution_count": 242,
   "metadata": {},
   "outputs": [],
   "source": [
    "def reproduction_and_migration_function(patch_population_list_A, patch_population_list_B, dispersal_rate, mate_choice_function):\n",
    "\n",
    "    patch_A_after_reproduction = reproduction_one_generation_one_patch(patch_population_list_A, mate_choice_function)\n",
    "    patch_B_after_reproduction = reproduction_one_generation_one_patch(patch_population_list_B, mate_choice_function)\n",
    "\n",
    "    patch_A_after_migration, patch_B_after_migration = migration_between_two_patches(patch_A_after_reproduction, patch_B_after_reproduction, dispersal_rate)\n",
    "\n",
    "    return patch_A_after_migration, patch_B_after_migration"
   ]
  },
  {
   "cell_type": "code",
   "execution_count": 243,
   "metadata": {},
   "outputs": [],
   "source": [
    "def count_species(individuals_list):\n",
    "    count_a = sum(1 for individual in individuals_list if individual.species == \"A\")\n",
    "    count_b = sum(1 for individual in individuals_list if individual.species == \"B\")\n",
    "    return count_a, count_b\n",
    "\n",
    "\n",
    "# Counting species A and species B\n"
   ]
  },
  {
   "cell_type": "code",
   "execution_count": 244,
   "metadata": {},
   "outputs": [],
   "source": [
    "def reproduction_over_generations(initial_num_individuals, dispersal_rate, num_generations, mate_choice_function):\n",
    "\n",
    "    Initial_patch_A = [Individual(species='A', sex='female' if np.random.rand() < sex_ratio else 'male', size=np.random.normal(mean_size_A, std_dev)) for _ in range(initial_num_individuals)]\n",
    "    Initial_patch_B = [Individual(species='B', sex='female' if np.random.rand() < sex_ratio else 'male', size=np.random.normal(mean_size_B, std_dev)) for _ in range(initial_num_individuals)]\n",
    "\n",
    "    patch_population_list_A = Initial_patch_A\n",
    "    patch_population_list_B = Initial_patch_B\n",
    "\n",
    "    generation_count_till_end = 0\n",
    "    for i in range(num_generations):\n",
    "        patch_population_list_A, patch_population_list_B = reproduction_and_migration_function(patch_population_list_A, patch_population_list_B, dispersal_rate, mate_choice_function)\n",
    "        count_species_A_patch_A, count_species_B_patch_A = count_species(patch_population_list_A)\n",
    "        count_species_A_patch_B, count_species_B_patch_B = count_species(patch_population_list_B)\n",
    "\n",
    "        total_A_count = count_species_A_patch_A + count_species_A_patch_B\n",
    "        total_B_count = count_species_B_patch_A + count_species_B_patch_B\n",
    "\n",
    "        # print(\"PATCH A:\", count_species_A_patch_A, \" B count:\", count_species_B_patch_A)\n",
    "        # print(\"PATCH B:\", count_species_A_patch_B, \" B count:\", count_species_B_patch_B)\n",
    "\n",
    "        generation_count_till_end += 1\n",
    "        \n",
    "        if total_A_count == 0 or total_B_count == 0:\n",
    "            break\n",
    "    \n",
    "\n",
    "    return generation_count_till_end\n",
    "    print(\"TOTAL:\" \"A --\", total_A_count, \" B --:\", total_B_count)\n",
    "\n"
   ]
  },
  {
   "cell_type": "code",
   "execution_count": 245,
   "metadata": {},
   "outputs": [],
   "source": [
    "def average_number_of_generations_until_end(initial_num_individuals, dispersal_rate, num_generations, mate_choice_function):\n",
    "    number_of_generations_list = []\n",
    "    for i in range(5):\n",
    "        number_of_generations = reproduction_over_generations(initial_num_individuals, dispersal_rate, num_generations, mate_choice_function)\n",
    "        number_of_generations_list.append(number_of_generations)\n",
    "    return np.mean(number_of_generations_list)"
   ]
  },
  {
   "cell_type": "code",
   "execution_count": 247,
   "metadata": {},
   "outputs": [
    {
     "name": "stdout",
     "output_type": "stream",
     "text": [
      "Average number of generations until end of simulation for mutual mate choice: 16.2\n",
      "Average number of generations until end of simulation for unidirectional mate choice: 18.6\n"
     ]
    }
   ],
   "source": [
    "average_generations_until_end_of_simulation_mutual = average_number_of_generations_until_end(500, 0.15, 100, mutual_mate_choice)\n",
    "print(\"Average number of generations until end of simulation for mutual mate choice:\", average_generations_until_end_of_simulation_mutual)\n",
    "\n",
    "average_generations_until_end_of_simulation_unidirectional = average_number_of_generations_until_end(500, 0.15, 100, unidirectional_mate_choice)\n",
    "print(\"Average number of generations until end of simulation for unidirectional mate choice:\", average_generations_until_end_of_simulation_unidirectional)"
   ]
  },
  {
   "cell_type": "code",
   "execution_count": 228,
   "metadata": {},
   "outputs": [
    {
     "data": {
      "text/plain": [
       "10"
      ]
     },
     "execution_count": 228,
     "metadata": {},
     "output_type": "execute_result"
    }
   ],
   "source": [
    "reproduction_over_generations(500, 0.15, 20, unidirectional_mate_choice)"
   ]
  }
 ],
 "metadata": {
  "kernelspec": {
   "display_name": "Python 3",
   "language": "python",
   "name": "python3"
  },
  "language_info": {
   "codemirror_mode": {
    "name": "ipython",
    "version": 3
   },
   "file_extension": ".py",
   "mimetype": "text/x-python",
   "name": "python",
   "nbconvert_exporter": "python",
   "pygments_lexer": "ipython3",
   "version": "3.12.1"
  }
 },
 "nbformat": 4,
 "nbformat_minor": 2
}
