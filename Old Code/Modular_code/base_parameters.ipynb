{
 "cells": [
  {
   "cell_type": "code",
   "execution_count": 2,
   "metadata": {},
   "outputs": [],
   "source": [
    "%run parameters_class.ipynb\n",
    "\n",
    "base_parameters = Parameters_class(\n",
    "    b1 = 100, \n",
    "    b2 = 100, \n",
    "    alpha11 = 0.5,\n",
    "    alpha22 = 0.5,\n",
    "    alpha12 = 0.55, \n",
    "    alpha21 = 0.55, \n",
    "    z_m1_initial = 0, \n",
    "    z_m2_initial = 0, \n",
    "    initial_population_species_1 = 100, \n",
    "    initial_population_species_2 = 100,\n",
    "    cost_to_males = 0.3,\n",
    "    strength_of_interference =  1,\n",
    "    V_A1 = 0.5,\n",
    "    V_A2 = 1.5, \n",
    "    num_generations = 1000\n",
    ")\n",
    "\n",
    "      # parameters"
   ]
  },
  {
   "cell_type": "code",
   "execution_count": 3,
   "metadata": {},
   "outputs": [],
   "source": [
    "class Parameters_for_Analysis:\n",
    "    def __init__(self, base_parameters, **kwargs):\n",
    "\n",
    "        # Override defaults with provided kwargs, using base_parameters as defaults\n",
    "        self.b1 = kwargs.get('b1', base_parameters.b1)\n",
    "        self.b2 = kwargs.get('b2', base_parameters.b2)\n",
    "        self.alpha11 = kwargs.get('alpha11', base_parameters.alpha11)\n",
    "        self.alpha22 = kwargs.get('alpha22', base_parameters.alpha22)\n",
    "        self.alpha12 = kwargs.get('alpha12', base_parameters.alpha12)\n",
    "        self.alpha21 = kwargs.get('alpha21', base_parameters.alpha21)\n",
    "        self.z_m1_initial = kwargs.get('z_m1_initial', base_parameters.z_m1_initial)\n",
    "        self.z_m2_initial = kwargs.get('z_m2_initial', base_parameters.z_m2_initial)\n",
    "        self.initial_population_species_1 = kwargs.get('initial_population_species_1', base_parameters.initial_population_species_1)\n",
    "        self.initial_population_species_2 = kwargs.get('initial_population_species_2', base_parameters.initial_population_species_2)\n",
    "        self.cost_to_males = kwargs.get('cost_to_males', base_parameters.cost_to_males)\n",
    "        self.strength_of_interference = kwargs.get('strength_of_interference', base_parameters.strength_of_interference)\n",
    "        self.V_A1 = kwargs.get('V_A1', base_parameters.V_A1)\n",
    "        self.V_A2 = kwargs.get('V_A2', base_parameters.V_A2)\n",
    "        self.num_generations = kwargs.get('num_generations', base_parameters.num_generations)"
   ]
  }
 ],
 "metadata": {
  "kernelspec": {
   "display_name": "Python 3",
   "language": "python",
   "name": "python3"
  },
  "language_info": {
   "codemirror_mode": {
    "name": "ipython",
    "version": 3
   },
   "file_extension": ".py",
   "mimetype": "text/x-python",
   "name": "python",
   "nbconvert_exporter": "python",
   "pygments_lexer": "ipython3",
   "version": "3.12.1"
  }
 },
 "nbformat": 4,
 "nbformat_minor": 2
}
