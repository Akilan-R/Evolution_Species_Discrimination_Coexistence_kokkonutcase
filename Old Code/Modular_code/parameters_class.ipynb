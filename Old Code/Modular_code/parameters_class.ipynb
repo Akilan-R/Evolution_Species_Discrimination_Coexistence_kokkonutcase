{
 "cells": [
  {
   "cell_type": "code",
   "execution_count": 3,
   "metadata": {},
   "outputs": [],
   "source": [
    "class Parameters_class:\n",
    "    def __init__(self, b1, b2, alpha11, alpha22, alpha12, alpha21, z_m1_initial, z_m2_initial, initial_population_species_1, initial_population_species_2, cost_to_males, strength_of_interference, V_A1, V_A2, num_generations):\n",
    "        self.b1 = b1\n",
    "        self.b2 = b2\n",
    "\n",
    "        self.alpha11 = alpha11\n",
    "        self.alpha22 = alpha22\n",
    "        self.alpha12 = alpha12\n",
    "        self.alpha21 = alpha21\n",
    "   \n",
    "        self.z_m1_initial = z_m1_initial\n",
    "        self.z_m2_initial = z_m2_initial\n",
    "\n",
    "        self.initial_population_species_1 = initial_population_species_1\n",
    "        self.initial_population_species_2 = initial_population_species_2\n",
    "\n",
    "        self.cost_to_males = cost_to_males\n",
    "        \n",
    "        self.strength_of_interference = strength_of_interference\n",
    "\n",
    "        self.V_A1 = V_A1\n",
    "        self.V_A2 = V_A2\n",
    "        # self.intraspecific_competition = intraspecific_competition\n",
    "\n",
    "        self.num_generations = num_generations"
   ]
  },
  {
   "cell_type": "code",
   "execution_count": 2,
   "metadata": {},
   "outputs": [],
   "source": []
  }
 ],
 "metadata": {
  "kernelspec": {
   "display_name": "Python 3",
   "language": "python",
   "name": "python3"
  },
  "language_info": {
   "codemirror_mode": {
    "name": "ipython",
    "version": 3
   },
   "file_extension": ".py",
   "mimetype": "text/x-python",
   "name": "python",
   "nbconvert_exporter": "python",
   "pygments_lexer": "ipython3",
   "version": "3.12.1"
  }
 },
 "nbformat": 4,
 "nbformat_minor": 2
}
